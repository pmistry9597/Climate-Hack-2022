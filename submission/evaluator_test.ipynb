{
 "cells": [
  {
   "cell_type": "code",
   "execution_count": 5,
   "id": "edcaced0",
   "metadata": {},
   "outputs": [],
   "source": [
    "from evaluate import Evaluator"
   ]
  },
  {
   "cell_type": "code",
   "execution_count": 6,
   "id": "ef566fc6",
   "metadata": {},
   "outputs": [],
   "source": [
    "import numpy as np"
   ]
  },
  {
   "cell_type": "code",
   "execution_count": 7,
   "id": "8845b65f",
   "metadata": {},
   "outputs": [],
   "source": [
    "garbo = Evaluator()"
   ]
  },
  {
   "cell_type": "code",
   "execution_count": 9,
   "id": "38c0528a",
   "metadata": {},
   "outputs": [
    {
     "data": {
      "text/plain": [
       "(24, 64, 64)"
      ]
     },
     "execution_count": 9,
     "metadata": {},
     "output_type": "execute_result"
    }
   ],
   "source": [
    "garb = np.zeros([12,128,128])\n",
    "coord = np.zeros([2,128,128])\n",
    "garbo.predict(coord, garb).shape"
   ]
  }
 ],
 "metadata": {
  "kernelspec": {
   "display_name": "Python 3 (ipykernel)",
   "language": "python",
   "name": "python3"
  },
  "language_info": {
   "codemirror_mode": {
    "name": "ipython",
    "version": 3
   },
   "file_extension": ".py",
   "mimetype": "text/x-python",
   "name": "python",
   "nbconvert_exporter": "python",
   "pygments_lexer": "ipython3",
   "version": "3.7.12"
  }
 },
 "nbformat": 4,
 "nbformat_minor": 5
}
