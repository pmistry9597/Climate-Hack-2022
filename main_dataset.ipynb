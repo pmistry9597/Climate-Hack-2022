{
 "cells": [
  {
   "cell_type": "code",
   "execution_count": 1,
   "metadata": {},
   "outputs": [],
   "source": [
    "import pickle\n",
    "import torch\n",
    "from copy import deepcopy\n",
    "from random import randrange\n",
    "from datetime import timedelta\n",
    "from chunkified_npset import ChunkifiedDataset"
   ]
  },
  {
   "cell_type": "code",
   "execution_count": 2,
   "metadata": {},
   "outputs": [],
   "source": [
    "class CHMainDataset(torch.utils.data.Dataset):\n",
    "    def __init__(self, np_set, gen_tables):\n",
    "        self.in_width = 128\n",
    "        self.out_width = 64\n",
    "        self.inner_offset = int((128 - 64) / 2)\n",
    "        self.np_set = np_set\n",
    "        self._gen_tables(gen_tables)\n",
    "\n",
    "    def _gen_tables(self, gen_tables):\n",
    "        idx_2_time = None\n",
    "        with open('uk_data_np/idx_2_time', 'rb') as i2t_f:\n",
    "            idx_2_time = pickle.load(i2t_f)\n",
    "        i2t_f.close()\n",
    "\n",
    "        self.corner_and_idxs = gen_tables(idx_2_time)\n",
    "\n",
    "    def __len__(self):\n",
    "        return len(self.corner_and_idx)\n",
    "\n",
    "    def _crop(self, section, corner, width):\n",
    "        return section[:, corner[0]:corner[0]+width, corner[1]:corner[1]+width]\n",
    "    \n",
    "    def _in_crop(self, section, corner):\n",
    "        return self._crop(section, corner, self.in_width)\n",
    "\n",
    "    def _out_crop(self, section, corner):\n",
    "        corner[0] += self.inner_offset\n",
    "        corner[1] += self.inner_offset\n",
    "\n",
    "        return self._crop(section, corner, self.out_width)\n",
    "    \n",
    "    def __getitem__(self, idx):\n",
    "        corner, np_idx = self.corner_and_idxs[idx]\n",
    "        corner = deepcopy(corner)\n",
    "        in_section = self.np_set[np_idx : np_idx+12]\n",
    "        in_section = self._in_crop(in_section, corner)\n",
    "\n",
    "        out_section = self.np_set[np_idx+12 : np_idx+36]\n",
    "        out_section = self._out_crop(out_section, corner)\n",
    "        if out_section.shape[0] == 23:\n",
    "            print(out_section.shape)\n",
    "            print(corner)\n",
    "            print(np_idx)\n",
    "\n",
    "        return (in_section, out_section)"
   ]
  },
  {
   "cell_type": "code",
   "execution_count": 3,
   "metadata": {},
   "outputs": [],
   "source": [
    "class SingleCropGenerator:\n",
    "    def __init__(self, raw_w, raw_h):\n",
    "        self.period = 36\n",
    "        self.crop_width = 128\n",
    "        self.raw_w = raw_w\n",
    "        self.raw_h = raw_h\n",
    "\n",
    "    def _generate_corner(self):\n",
    "        corner = [randrange(0, self.raw_w - self.crop_width), randrange(0, self.raw_h - self.crop_width)]\n",
    "        return corner\n",
    "\n",
    "    def __call__(self, idx_2_time):\n",
    "        table = []\n",
    "        for i in range(len(idx_2_time)):\n",
    "            end_bound = i + self.period\n",
    "            if end_bound >= len(idx_2_time): #no more 3 hour intervals to check!\n",
    "                break\n",
    "            \n",
    "            if idx_2_time[i] + timedelta(hours=3) != idx_2_time[end_bound]: #if period # of points down the line isn't 3 hours exactly in the future\n",
    "                continue\n",
    "\n",
    "            table.append((self._generate_corner(), i))\n",
    "        return table\n"
   ]
  },
  {
   "cell_type": "code",
   "execution_count": 4,
   "metadata": {},
   "outputs": [],
   "source": [
    "with open('uk_data_np/idx_2_time', 'rb') as i2t_f:\n",
    "    idx_2_time = pickle.load(i2t_f)\n",
    "i2t_f.close()"
   ]
  },
  {
   "cell_type": "code",
   "execution_count": 5,
   "metadata": {},
   "outputs": [],
   "source": [
    "np_set = ChunkifiedDataset()\n",
    "gen = SingleCropGenerator(np_set[0].shape[0], np_set[0].shape[1])\n",
    "dataset = CHMainDataset(np_set, gen)"
   ]
  },
  {
   "cell_type": "code",
   "execution_count": 6,
   "metadata": {},
   "outputs": [],
   "source": [
    "for i, data in enumerate(dataset):\n",
    "    if i == 4000:\n",
    "        break\n",
    "        \n",
    "    if data[0].shape != (12,128,128):\n",
    "        print(\"PROBLEM WITH DA INPUT SHAPE\")\n",
    "        print(i)\n",
    "        print(data[0].shape)\n",
    "        print(data[1].shape)\n",
    "        break\n",
    "        \n",
    "    if data[1].shape != (24,64,64):\n",
    "        print(\"PROBLEM WIDHT ADA OUTPUT SHAP\")\n",
    "        print(i)\n",
    "        print(data[0].shape)\n",
    "        print(data[1].shape)\n",
    "        break"
   ]
  },
  {
   "cell_type": "code",
   "execution_count": 8,
   "metadata": {},
   "outputs": [
    {
     "data": {
      "text/plain": [
       "(24, 891, 1843)"
      ]
     },
     "execution_count": 8,
     "metadata": {},
     "output_type": "execute_result"
    }
   ],
   "source": [
    "np_idx = 464\n",
    "out_section = np_set[np_idx+12 : np_idx+36]\n",
    "out_section.shape"
   ]
  }
 ],
 "metadata": {
  "interpreter": {
   "hash": "4bba7e75823fc7474598fdaa9856f2217ab6bebf37b5fa259dabfeda760a6edd"
  },
  "kernelspec": {
   "display_name": "Python 3 (ipykernel)",
   "language": "python",
   "name": "python3"
  },
  "language_info": {
   "codemirror_mode": {
    "name": "ipython",
    "version": 3
   },
   "file_extension": ".py",
   "mimetype": "text/x-python",
   "name": "python",
   "nbconvert_exporter": "python",
   "pygments_lexer": "ipython3",
   "version": "3.7.12"
  }
 },
 "nbformat": 4,
 "nbformat_minor": 2
}
