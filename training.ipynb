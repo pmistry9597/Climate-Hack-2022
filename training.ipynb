{
 "cells": [
  {
   "cell_type": "code",
   "execution_count": 1,
   "metadata": {},
   "outputs": [],
   "source": [
    "import torch\n",
    "from torch.utils.data import DataLoader\n",
    "import matplotlib.pyplot as plt\n",
    "import xarray as xr\n",
    "from dataset import ClimateHackDataset\n",
    "from basic_model import BasicModel\n",
    "from loss import MS_SSIMLoss\n",
    "import os"
   ]
  },
  {
   "cell_type": "code",
   "execution_count": 2,
   "metadata": {},
   "outputs": [],
   "source": [
    "device = 'cuda' if torch.cuda.is_available() else 'cpu'"
   ]
  },
  {
   "cell_type": "markdown",
   "metadata": {},
   "source": [
    "Setup dataset and dataloader"
   ]
  },
  {
   "cell_type": "code",
   "execution_count": 36,
   "metadata": {},
   "outputs": [],
   "source": [
    "DATASET_PATH = \"eumetsat_seviri_hrv_uk.zarr\"\n",
    "#DATASET_PATH = \"gs://public-datasets-eumetsat-solar-forecasting/satellite/EUMETSAT/SEVIRI_RSS/v3/eumetsat_seviri_hrv_uk.zarr\"\n",
    "\n",
    "dataset = xr.open_dataset(\n",
    "    DATASET_PATH,\n",
    "    engine='zarr',\n",
    "    chunks='auto'\n",
    ")"
   ]
  },
  {
   "cell_type": "markdown",
   "metadata": {},
   "source": [
    "Training Setup"
   ]
  },
  {
   "cell_type": "code",
   "execution_count": 4,
   "metadata": {},
   "outputs": [],
   "source": [
    "BATCH_LEN = 16\n",
    "EPOCHS = 10"
   ]
  },
  {
   "cell_type": "code",
   "execution_count": 32,
   "metadata": {},
   "outputs": [
    {
     "data": {
      "text/plain": [
       "0"
      ]
     },
     "execution_count": 32,
     "metadata": {},
     "output_type": "execute_result"
    }
   ],
   "source": [
    "cl_dataset = ClimateHackDataset(dataset, crops_per_slice=1, day_limit=7)\n",
    "cl_loader = DataLoader(cl_dataset, batch_size=BATCH_LEN)\n",
    "len(list(cl_dataset))"
   ]
  },
  {
   "cell_type": "markdown",
   "metadata": {},
   "source": [
    "Create the model"
   ]
  },
  {
   "cell_type": "code",
   "execution_count": 6,
   "metadata": {},
   "outputs": [
    {
     "data": {
      "text/plain": [
       "BasicModel(\n",
       "  (layer0): Linear(in_features=196608, out_features=1024, bias=True)\n",
       "  (layer1): Linear(in_features=1024, out_features=1024, bias=True)\n",
       "  (layer2): Linear(in_features=1024, out_features=98304, bias=True)\n",
       "  (relu): ReLU()\n",
       "  (softmax): Softmax(dim=-1)\n",
       ")"
      ]
     },
     "execution_count": 6,
     "metadata": {},
     "output_type": "execute_result"
    }
   ],
   "source": [
    "model = BasicModel()\n",
    "model.to(device)"
   ]
  },
  {
   "cell_type": "markdown",
   "metadata": {},
   "source": [
    "Training utilities\n",
    "# wow"
   ]
  },
  {
   "cell_type": "code",
   "execution_count": 7,
   "metadata": {},
   "outputs": [],
   "source": [
    "optimizer = torch.optim.Adam(model.parameters(), lr=1e-4)\n",
    "criterion = MS_SSIMLoss(channels=24)"
   ]
  },
  {
   "cell_type": "markdown",
   "metadata": {},
   "source": [
    "Training loop definition"
   ]
  },
  {
   "cell_type": "code",
   "execution_count": 8,
   "metadata": {},
   "outputs": [],
   "source": [
    "dir_to_save = 'basic_models'\n",
    "if not os.path.isdir(dir_to_save):\n",
    "    os.makedirs(dir_to_save)"
   ]
  },
  {
   "cell_type": "code",
   "execution_count": 16,
   "metadata": {},
   "outputs": [],
   "source": [
    "def train_epoch(dataloader, model, optimizer, criterion, losses, epoch):\n",
    "    its_til_checkpoint = 10\n",
    "    \n",
    "    running_loss = 0\n",
    "    count = 0\n",
    "    iterable = iter(dataloader)\n",
    "    for i, (coords, features, targets) in enumerate(iterable):\n",
    "        features = features.to(device)\n",
    "        targets = targets.to(device)\n",
    "\n",
    "        predictions = model(features)\n",
    "\n",
    "        loss = criterion(predictions, targets)\n",
    "        optimizer.zero_grad()\n",
    "        loss.backward()\n",
    "        optimizer.step()\n",
    "\n",
    "        curr_len = features.shape[0]\n",
    "        running_loss += curr_len * loss.item()\n",
    "        count += curr_len\n",
    "\n",
    "        if i % its_til_checkpoint == its_til_checkpoint-1:\n",
    "            curr_loss = running_loss / count\n",
    "            print(f'Current loss after {its_til_checkpoint} iterations: {curr_loss}')\n",
    "            losses.append(curr_loss)\n",
    "\n",
    "            plt.plot(losses, 'b-')\n",
    "            plt.title(\"Loss over iterations\")\n",
    "            plt.show()\n",
    "\n",
    "            file_name = f'epoch-{epoch}_iteration-{i}'\n",
    "            torch.save(model.state_dict(), open(os.path.join(dir_to_save, file_name), 'w+'))\n",
    "\n",
    "            running_loss = 0\n",
    "            count = 0\n",
    "    \n",
    "    losses.append(running_loss / count)"
   ]
  },
  {
   "cell_type": "code",
   "execution_count": 21,
   "metadata": {},
   "outputs": [
    {
     "ename": "ZeroDivisionError",
     "evalue": "division by zero",
     "output_type": "error",
     "traceback": [
      "\u001b[1;31m---------------------------------------------------------------------------\u001b[0m",
      "\u001b[1;31mZeroDivisionError\u001b[0m                         Traceback (most recent call last)",
      "\u001b[1;32m~\\AppData\\Local\\Temp/ipykernel_20616/1829430848.py\u001b[0m in \u001b[0;36m<module>\u001b[1;34m\u001b[0m\n\u001b[0;32m      1\u001b[0m \u001b[0mlosses\u001b[0m \u001b[1;33m=\u001b[0m \u001b[1;33m[\u001b[0m\u001b[1;33m]\u001b[0m\u001b[1;33m\u001b[0m\u001b[1;33m\u001b[0m\u001b[0m\n\u001b[1;32m----> 2\u001b[1;33m \u001b[0mtrain_epoch\u001b[0m\u001b[1;33m(\u001b[0m\u001b[0mcl_loader\u001b[0m\u001b[1;33m,\u001b[0m \u001b[0mmodel\u001b[0m\u001b[1;33m,\u001b[0m \u001b[0moptimizer\u001b[0m\u001b[1;33m,\u001b[0m \u001b[0mcriterion\u001b[0m\u001b[1;33m,\u001b[0m \u001b[0mlosses\u001b[0m\u001b[1;33m,\u001b[0m \u001b[1;36m0\u001b[0m\u001b[1;33m)\u001b[0m\u001b[1;33m\u001b[0m\u001b[1;33m\u001b[0m\u001b[0m\n\u001b[0m",
      "\u001b[1;32m~\\AppData\\Local\\Temp/ipykernel_20616/3423782949.py\u001b[0m in \u001b[0;36mtrain_epoch\u001b[1;34m(dataloader, model, optimizer, criterion, losses, epoch)\u001b[0m\n\u001b[0;32m     35\u001b[0m             \u001b[0mcount\u001b[0m \u001b[1;33m=\u001b[0m \u001b[1;36m0\u001b[0m\u001b[1;33m\u001b[0m\u001b[1;33m\u001b[0m\u001b[0m\n\u001b[0;32m     36\u001b[0m \u001b[1;33m\u001b[0m\u001b[0m\n\u001b[1;32m---> 37\u001b[1;33m     \u001b[0mlosses\u001b[0m\u001b[1;33m.\u001b[0m\u001b[0mappend\u001b[0m\u001b[1;33m(\u001b[0m\u001b[0mrunning_loss\u001b[0m \u001b[1;33m/\u001b[0m \u001b[0mcount\u001b[0m\u001b[1;33m)\u001b[0m\u001b[1;33m\u001b[0m\u001b[1;33m\u001b[0m\u001b[0m\n\u001b[0m",
      "\u001b[1;31mZeroDivisionError\u001b[0m: division by zero"
     ]
    }
   ],
   "source": [
    "losses = []\n",
    "train_epoch(cl_loader, model, optimizer, criterion, losses, 0)"
   ]
  },
  {
   "cell_type": "code",
   "execution_count": null,
   "metadata": {},
   "outputs": [],
   "source": [
    "def train(epochs, dataloader, model, optimizer, criterion):\n",
    "    losses = []\n",
    "    for epoch in range(epochs):\n",
    "        print(f'Entering epoch {epoch}')\n",
    "        train_epoch(dataloader, model, optimizer, criterion)\n",
    "    \n",
    "    return losses"
   ]
  },
  {
   "cell_type": "code",
   "execution_count": null,
   "metadata": {},
   "outputs": [],
   "source": [
    "train(EPOCHS, cl_loader, model, optimizer, criterion)"
   ]
  }
 ],
 "metadata": {
  "interpreter": {
   "hash": "4bba7e75823fc7474598fdaa9856f2217ab6bebf37b5fa259dabfeda760a6edd"
  },
  "kernelspec": {
   "display_name": "Python 3.7.11 ('maintorch')",
   "language": "python",
   "name": "python3"
  },
  "language_info": {
   "codemirror_mode": {
    "name": "ipython",
    "version": 3
   },
   "file_extension": ".py",
   "mimetype": "text/x-python",
   "name": "python",
   "nbconvert_exporter": "python",
   "pygments_lexer": "ipython3",
   "version": "3.7.11"
  },
  "orig_nbformat": 4
 },
 "nbformat": 4,
 "nbformat_minor": 2
}
