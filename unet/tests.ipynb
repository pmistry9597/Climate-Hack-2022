{
 "cells": [
  {
   "cell_type": "code",
   "execution_count": 1,
   "metadata": {},
   "outputs": [],
   "source": [
    "import torch\n",
    "import imp\n",
    "import model"
   ]
  },
  {
   "cell_type": "code",
   "execution_count": 3,
   "metadata": {},
   "outputs": [
    {
     "name": "stdout",
     "output_type": "stream",
     "text": [
      "torch.Size([1, 256, 126, 126])\n",
      "torch.Size([1, 256, 124, 124])\n"
     ]
    },
    {
     "data": {
      "text/plain": [
       "torch.Size([1, 256, 124, 124])"
      ]
     },
     "execution_count": 3,
     "metadata": {},
     "output_type": "execute_result"
    }
   ],
   "source": [
    "imp.reload(model)\n",
    "doubleConv = model.DoubleConv(512, 256)\n",
    "garbo = torch.randn([1, 512, 128, 128])\n",
    "doubleConv(garbo).shape"
   ]
  },
  {
   "cell_type": "code",
   "execution_count": 40,
   "metadata": {},
   "outputs": [
    {
     "name": "stdout",
     "output_type": "stream",
     "text": [
      "torch.Size([1, 128, 124, 124])\n",
      "torch.Size([1, 256, 58, 58])\n",
      "torch.Size([1, 512, 25, 25])\n",
      "torch.Size([1, 1024, 8, 8])\n",
      "torch.Size([1, 512, 16, 16])\n",
      "torch.Size([1, 256, 24, 24])\n",
      "torch.Size([1, 128, 40, 40])\n",
      "torch.Size([1, 64, 68, 68])\n",
      "torch.Size([1, 24, 64, 64])\n"
     ]
    },
    {
     "data": {
      "text/plain": [
       "torch.Size([1, 24, 64, 64])"
      ]
     },
     "execution_count": 40,
     "metadata": {},
     "output_type": "execute_result"
    }
   ],
   "source": [
    "imp.reload(model)\n",
    "unet = model.UNet()\n",
    "garbo = torch.randn([1, 12, 128, 128])\n",
    "unet(garbo).shape"
   ]
  }
 ],
 "metadata": {
  "interpreter": {
   "hash": "4bba7e75823fc7474598fdaa9856f2217ab6bebf37b5fa259dabfeda760a6edd"
  },
  "kernelspec": {
   "display_name": "Python 3.7.11 ('maintorch')",
   "language": "python",
   "name": "python3"
  },
  "language_info": {
   "codemirror_mode": {
    "name": "ipython",
    "version": 3
   },
   "file_extension": ".py",
   "mimetype": "text/x-python",
   "name": "python",
   "nbconvert_exporter": "python",
   "pygments_lexer": "ipython3",
   "version": "3.7.11"
  },
  "orig_nbformat": 4
 },
 "nbformat": 4,
 "nbformat_minor": 2
}
