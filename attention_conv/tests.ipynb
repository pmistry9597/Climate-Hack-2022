{
 "cells": [
  {
   "cell_type": "code",
   "execution_count": 1,
   "metadata": {},
   "outputs": [],
   "source": [
    "import torch\n",
    "import numpy as np\n",
    "import imp\n",
    "import model"
   ]
  },
  {
   "cell_type": "code",
   "execution_count": 4,
   "metadata": {},
   "outputs": [
    {
     "data": {
      "text/plain": [
       "tensor([[[ 1.3919,  1.3056,  2.7853,  ...,  0.5766, -0.0803,  0.1211],\n",
       "         [-0.8576,  0.3325, -1.5713,  ...,  0.8298,  1.4680,  0.2883],\n",
       "         [ 0.3307, -0.0675, -0.0202,  ..., -1.8999, -0.4316,  1.4966]],\n",
       "\n",
       "        [[-0.3773,  0.4957, -0.0476,  ..., -0.2832, -0.1372, -1.4229],\n",
       "         [-1.2645,  1.4329,  0.2567,  ...,  1.3165,  1.5666, -0.7734],\n",
       "         [-1.0333, -0.3981,  0.5251,  ...,  0.7937, -3.1634, -1.6036]],\n",
       "\n",
       "        [[ 0.4099,  1.3257, -0.5460,  ...,  0.1601, -1.0242,  3.4976],\n",
       "         [-0.2699,  0.1462,  0.5616,  ..., -0.4750,  1.5428,  0.5463],\n",
       "         [ 0.1554,  0.1756,  0.4237,  ...,  1.4789,  0.8346,  1.7382]],\n",
       "\n",
       "        [[-0.4651, -1.5848, -0.8459,  ...,  0.9008, -0.4355, -0.7192],\n",
       "         [ 0.7424,  1.6123,  0.1406,  ...,  1.6709,  1.8635, -0.9863],\n",
       "         [ 0.4178,  0.8939, -0.4980,  ..., -0.0662, -1.0376,  0.6484]],\n",
       "\n",
       "        [[ 1.3107, -1.9186, -0.2184,  ...,  2.4746, -0.3871,  0.6651],\n",
       "         [-1.0621, -0.1679, -0.3245,  ...,  0.8142, -0.2886, -1.1276],\n",
       "         [-1.3026,  1.3236, -1.0031,  ..., -0.5547,  0.7717, -1.0161]]],\n",
       "       grad_fn=<NativeLayerNormBackward0>)"
      ]
     },
     "execution_count": 4,
     "metadata": {},
     "output_type": "execute_result"
    }
   ],
   "source": [
    "imp.reload(model)\n",
    "t_encoder = model.TransformerEncoder(512, 2048, 8)\n",
    "garbo = torch.randn([5, 3, 512])\n",
    "t_encoder(garbo)"
   ]
  },
  {
   "cell_type": "code",
   "execution_count": 10,
   "metadata": {},
   "outputs": [
    {
     "data": {
      "text/plain": [
       "torch.Size([3, 24, 512])"
      ]
     },
     "execution_count": 10,
     "metadata": {},
     "output_type": "execute_result"
    }
   ],
   "source": [
    "imp.reload(model)\n",
    "t_decoder = model.TransformerDecoder(512, 2048, 8)\n",
    "latents = torch.randn([3, 24, 512])\n",
    "encoding = torch.randn([3, 12, 512])\n",
    "t_decoder(latents, encoding, 1).shape"
   ]
  },
  {
   "cell_type": "code",
   "execution_count": 16,
   "metadata": {},
   "outputs": [
    {
     "data": {
      "text/plain": [
       "torch.Size([3, 24, 512])"
      ]
     },
     "execution_count": 16,
     "metadata": {},
     "output_type": "execute_result"
    }
   ],
   "source": [
    "imp.reload(model)\n",
    "transformer = model.Transformer(dims=512, ff_width=2048, heads=4, encode_blocks=6, seq_len=12, out_seq_len=24)\n",
    "garbo = torch.randn([3, 12, 512])\n",
    "transformer(garbo).shape"
   ]
  },
  {
   "cell_type": "code",
   "execution_count": 46,
   "metadata": {},
   "outputs": [
    {
     "data": {
      "text/plain": [
       "torch.Size([3, 512, 1, 1])"
      ]
     },
     "execution_count": 46,
     "metadata": {},
     "output_type": "execute_result"
    }
   ],
   "source": [
    "imp.reload(model)\n",
    "imEncoder = model.ImageEncoder([1, 16, 32, 64, 128, 256, 512], kernel_size=3, stride=2)\n",
    "garbo = torch.randn([3, 128, 128])\n",
    "imEncoder(garbo).shape"
   ]
  },
  {
   "cell_type": "code",
   "execution_count": 36,
   "metadata": {
    "scrolled": true
   },
   "outputs": [
    {
     "data": {
      "text/plain": [
       "torch.Size([24, 64, 64])"
      ]
     },
     "execution_count": 36,
     "metadata": {},
     "output_type": "execute_result"
    }
   ],
   "source": [
    "imp.reload(model)\n",
    "attConv = model.AttentionConv()\n",
    "garbo = torch.randn([1, 12, 128, 128])\n",
    "attConv(garbo).shape\n",
    "attConv(garbo).shape\n",
    "attConv(garbo).shape"
   ]
  }
 ],
 "metadata": {
  "interpreter": {
   "hash": "4bba7e75823fc7474598fdaa9856f2217ab6bebf37b5fa259dabfeda760a6edd"
  },
  "kernelspec": {
   "display_name": "Python 3 (ipykernel)",
   "language": "python",
   "name": "python3"
  },
  "language_info": {
   "codemirror_mode": {
    "name": "ipython",
    "version": 3
   },
   "file_extension": ".py",
   "mimetype": "text/x-python",
   "name": "python",
   "nbconvert_exporter": "python",
   "pygments_lexer": "ipython3",
   "version": "3.7.12"
  }
 },
 "nbformat": 4,
 "nbformat_minor": 2
}
