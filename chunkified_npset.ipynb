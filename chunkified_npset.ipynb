{
 "cells": [
  {
   "cell_type": "code",
   "execution_count": 4,
   "metadata": {},
   "outputs": [],
   "source": [
    "import numpy as np\n",
    "import os"
   ]
  },
  {
   "cell_type": "code",
   "execution_count": 7,
   "metadata": {},
   "outputs": [],
   "source": [
    "class ChunkifiedDataset:\n",
    "    def __init__(self):\n",
    "        self.arrays_in_chunk = 500\n",
    "        self.chunk_loaded_start = -1\n",
    "        self.chunk_loaded_end = -1\n",
    "        self.data_root = 'uk_data_np'\n",
    "        self.chunk_root = os.path.join(self.data_root, 'data')\n",
    "        self._load_filename_data()\n",
    "        self.chunk_np = None\n",
    "\n",
    "    def _load_filename_data(self):\n",
    "        all_chunk_names = os.listdir(self.chunk_root)\n",
    "        self.chunk_nos = set() # stores end of chunk indices that stores names\n",
    "        self.highest_chunk_no = 0\n",
    "        self.highest_chunk_name = ''\n",
    "        for chunk_name in all_chunk_names:\n",
    "            chunk_name = chunk_name.replace('.npz', '')\n",
    "            chunk_no = int(chunk_name)\n",
    "            self.chunk_nos.add(chunk_no)\n",
    "\n",
    "            if self.highest_chunk_no < chunk_no:\n",
    "                self.highest_chunk_no = chunk_no\n",
    "                self.highest_chunk_name = chunk_name\n",
    "    \n",
    "    def _get_chunk_bounds(self, idx):\n",
    "        chunk_start = int(idx / self.arrays_in_chunk)\n",
    "        chunk_end = chunk_start + self.arrays_in_chunk - 1\n",
    "        return (chunk_start, chunk_end)\n",
    "    \n",
    "    def __len__(self):\n",
    "        return self.highest_chunk_no + 1\n",
    "\n",
    "    def _ensure_chunk_loaded(self, bounds):\n",
    "        end_idx = bounds[1]\n",
    "        start_idx = bounds[0]\n",
    "        if self.chunk_loaded_start == start_idx and self.chunk_loaded_end == end_idx:\n",
    "            return\n",
    "        \n",
    "        self.chunk_np = np.load(os.path.join(self.chunk_root, f'{end_idx}.npz'))\n",
    "        self.chunk_loaded_start = start_idx\n",
    "        self.chunk_loaded_end = end_idx\n",
    "\n",
    "    def _accessslice_within_chunk(self, key: slice, bounds):\n",
    "        start_bound = bounds[0]\n",
    "        self._ensure_chunk_loaded(bounds)\n",
    "        return self.chunk_np[key.start - start_bound: key.stop - start_bound: key.step]\n",
    "\n",
    "    def __getitem__(self, key):\n",
    "        if isinstance(key, int):\n",
    "            bounds = self._get_chunk_bounds(key)\n",
    "            start_idx, _ = bounds\n",
    "            self._ensure_chunk_loaded(bounds)\n",
    "            return self.chunk_np[key - start_idx]\n",
    "\n",
    "        if isinstance(key, slice):\n",
    "            start_bounds = self._get_chunk_bounds(key.start)\n",
    "            end_bounds = self._get_chunk_bounds(key.stop)\n",
    "            if start_bounds == end_bounds:\n",
    "                return self._accessslice_within_chunk(key, start_bounds)\n",
    "            \n",
    "            if start_bounds[1] != end_bounds[0]:\n",
    "                raise KeyError('Bro, your damn slice is massive yo', key)\n",
    "            \n",
    "            slice_0 = slice(key.start - start_bounds[0], start_bounds, key.step)\n",
    "            section_0 = self._accessslice_within_chunk(slice_0, start_bounds)\n",
    "            slice_1 = slice(end_bounds[0], key.stop - end_bounds[0], key.step)\n",
    "            section_1 = self._accessslice_within_chunk(slice_1, end_bounds)\n",
    "            section = np.concatenate([section_0, section_1], axis=0)\n",
    "            return section\n",
    "\n",
    "        raise KeyError('Bro like idek what to do here ok?', key)"
   ]
  },
  {
   "cell_type": "code",
   "execution_count": 9,
   "metadata": {},
   "outputs": [
    {
     "ename": "FileNotFoundError",
     "evalue": "[Errno 2] No such file or directory: 'uk_data_np\\\\data\\\\499.npz'",
     "output_type": "error",
     "traceback": [
      "\u001b[1;31m---------------------------------------------------------------------------\u001b[0m",
      "\u001b[1;31mFileNotFoundError\u001b[0m                         Traceback (most recent call last)",
      "\u001b[1;32m~\\AppData\\Local\\Temp/ipykernel_22512/3379625885.py\u001b[0m in \u001b[0;36m<module>\u001b[1;34m\u001b[0m\n\u001b[0;32m      1\u001b[0m \u001b[0mdatasetpls\u001b[0m \u001b[1;33m=\u001b[0m \u001b[0mChunkifiedDataset\u001b[0m\u001b[1;33m(\u001b[0m\u001b[1;33m)\u001b[0m\u001b[1;33m\u001b[0m\u001b[1;33m\u001b[0m\u001b[0m\n\u001b[1;32m----> 2\u001b[1;33m \u001b[0mdatasetpls\u001b[0m\u001b[1;33m[\u001b[0m\u001b[1;36m0\u001b[0m\u001b[1;33m]\u001b[0m\u001b[1;33m\u001b[0m\u001b[1;33m\u001b[0m\u001b[0m\n\u001b[0m",
      "\u001b[1;32m~\\AppData\\Local\\Temp/ipykernel_22512/4113840932.py\u001b[0m in \u001b[0;36m__getitem__\u001b[1;34m(self, key)\u001b[0m\n\u001b[0;32m     50\u001b[0m             \u001b[0mbounds\u001b[0m \u001b[1;33m=\u001b[0m \u001b[0mself\u001b[0m\u001b[1;33m.\u001b[0m\u001b[0m_get_chunk_bounds\u001b[0m\u001b[1;33m(\u001b[0m\u001b[0mkey\u001b[0m\u001b[1;33m)\u001b[0m\u001b[1;33m\u001b[0m\u001b[1;33m\u001b[0m\u001b[0m\n\u001b[0;32m     51\u001b[0m             \u001b[0mstart_idx\u001b[0m\u001b[1;33m,\u001b[0m \u001b[0m_\u001b[0m \u001b[1;33m=\u001b[0m \u001b[0mbounds\u001b[0m\u001b[1;33m\u001b[0m\u001b[1;33m\u001b[0m\u001b[0m\n\u001b[1;32m---> 52\u001b[1;33m             \u001b[0mself\u001b[0m\u001b[1;33m.\u001b[0m\u001b[0m_ensure_chunk_loaded\u001b[0m\u001b[1;33m(\u001b[0m\u001b[0mbounds\u001b[0m\u001b[1;33m)\u001b[0m\u001b[1;33m\u001b[0m\u001b[1;33m\u001b[0m\u001b[0m\n\u001b[0m\u001b[0;32m     53\u001b[0m             \u001b[1;32mreturn\u001b[0m \u001b[0mself\u001b[0m\u001b[1;33m.\u001b[0m\u001b[0mchunk_np\u001b[0m\u001b[1;33m[\u001b[0m\u001b[0mkey\u001b[0m \u001b[1;33m-\u001b[0m \u001b[0mstart_idx\u001b[0m\u001b[1;33m]\u001b[0m\u001b[1;33m\u001b[0m\u001b[1;33m\u001b[0m\u001b[0m\n\u001b[0;32m     54\u001b[0m \u001b[1;33m\u001b[0m\u001b[0m\n",
      "\u001b[1;32m~\\AppData\\Local\\Temp/ipykernel_22512/4113840932.py\u001b[0m in \u001b[0;36m_ensure_chunk_loaded\u001b[1;34m(self, bounds)\u001b[0m\n\u001b[0;32m     37\u001b[0m             \u001b[1;32mreturn\u001b[0m\u001b[1;33m\u001b[0m\u001b[1;33m\u001b[0m\u001b[0m\n\u001b[0;32m     38\u001b[0m \u001b[1;33m\u001b[0m\u001b[0m\n\u001b[1;32m---> 39\u001b[1;33m         \u001b[0mself\u001b[0m\u001b[1;33m.\u001b[0m\u001b[0mchunk_np\u001b[0m \u001b[1;33m=\u001b[0m \u001b[0mnp\u001b[0m\u001b[1;33m.\u001b[0m\u001b[0mload\u001b[0m\u001b[1;33m(\u001b[0m\u001b[0mos\u001b[0m\u001b[1;33m.\u001b[0m\u001b[0mpath\u001b[0m\u001b[1;33m.\u001b[0m\u001b[0mjoin\u001b[0m\u001b[1;33m(\u001b[0m\u001b[0mself\u001b[0m\u001b[1;33m.\u001b[0m\u001b[0mchunk_root\u001b[0m\u001b[1;33m,\u001b[0m \u001b[1;34mf'{end_idx}.npz'\u001b[0m\u001b[1;33m)\u001b[0m\u001b[1;33m)\u001b[0m\u001b[1;33m\u001b[0m\u001b[1;33m\u001b[0m\u001b[0m\n\u001b[0m\u001b[0;32m     40\u001b[0m         \u001b[0mself\u001b[0m\u001b[1;33m.\u001b[0m\u001b[0mchunk_loaded_start\u001b[0m \u001b[1;33m=\u001b[0m \u001b[0mstart_idx\u001b[0m\u001b[1;33m\u001b[0m\u001b[1;33m\u001b[0m\u001b[0m\n\u001b[0;32m     41\u001b[0m         \u001b[0mself\u001b[0m\u001b[1;33m.\u001b[0m\u001b[0mchunk_loaded_end\u001b[0m \u001b[1;33m=\u001b[0m \u001b[0mend_idx\u001b[0m\u001b[1;33m\u001b[0m\u001b[1;33m\u001b[0m\u001b[0m\n",
      "\u001b[1;32m~\\miniconda3\\envs\\maintorch\\lib\\site-packages\\numpy\\lib\\npyio.py\u001b[0m in \u001b[0;36mload\u001b[1;34m(file, mmap_mode, allow_pickle, fix_imports, encoding)\u001b[0m\n\u001b[0;32m    414\u001b[0m             \u001b[0mown_fid\u001b[0m \u001b[1;33m=\u001b[0m \u001b[1;32mFalse\u001b[0m\u001b[1;33m\u001b[0m\u001b[1;33m\u001b[0m\u001b[0m\n\u001b[0;32m    415\u001b[0m         \u001b[1;32melse\u001b[0m\u001b[1;33m:\u001b[0m\u001b[1;33m\u001b[0m\u001b[1;33m\u001b[0m\u001b[0m\n\u001b[1;32m--> 416\u001b[1;33m             \u001b[0mfid\u001b[0m \u001b[1;33m=\u001b[0m \u001b[0mstack\u001b[0m\u001b[1;33m.\u001b[0m\u001b[0menter_context\u001b[0m\u001b[1;33m(\u001b[0m\u001b[0mopen\u001b[0m\u001b[1;33m(\u001b[0m\u001b[0mos_fspath\u001b[0m\u001b[1;33m(\u001b[0m\u001b[0mfile\u001b[0m\u001b[1;33m)\u001b[0m\u001b[1;33m,\u001b[0m \u001b[1;34m\"rb\"\u001b[0m\u001b[1;33m)\u001b[0m\u001b[1;33m)\u001b[0m\u001b[1;33m\u001b[0m\u001b[1;33m\u001b[0m\u001b[0m\n\u001b[0m\u001b[0;32m    417\u001b[0m             \u001b[0mown_fid\u001b[0m \u001b[1;33m=\u001b[0m \u001b[1;32mTrue\u001b[0m\u001b[1;33m\u001b[0m\u001b[1;33m\u001b[0m\u001b[0m\n\u001b[0;32m    418\u001b[0m \u001b[1;33m\u001b[0m\u001b[0m\n",
      "\u001b[1;31mFileNotFoundError\u001b[0m: [Errno 2] No such file or directory: 'uk_data_np\\\\data\\\\499.npz'"
     ]
    }
   ],
   "source": [
    "datasetpls = ChunkifiedDataset()\n",
    "datasetpls[0]"
   ]
  }
 ],
 "metadata": {
  "interpreter": {
   "hash": "4bba7e75823fc7474598fdaa9856f2217ab6bebf37b5fa259dabfeda760a6edd"
  },
  "kernelspec": {
   "display_name": "Python 3.7.11 ('maintorch')",
   "language": "python",
   "name": "python3"
  },
  "language_info": {
   "codemirror_mode": {
    "name": "ipython",
    "version": 3
   },
   "file_extension": ".py",
   "mimetype": "text/x-python",
   "name": "python",
   "nbconvert_exporter": "python",
   "pygments_lexer": "ipython3",
   "version": "3.7.11"
  },
  "orig_nbformat": 4
 },
 "nbformat": 4,
 "nbformat_minor": 2
}
