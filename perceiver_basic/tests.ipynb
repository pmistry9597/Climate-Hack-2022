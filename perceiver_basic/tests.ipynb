{
 "cells": [
  {
   "cell_type": "code",
   "execution_count": 2,
   "metadata": {},
   "outputs": [],
   "source": [
    "import torch\n",
    "import model\n",
    "import imp"
   ]
  },
  {
   "cell_type": "code",
   "execution_count": 17,
   "metadata": {},
   "outputs": [
    {
     "data": {
      "text/plain": [
       "torch.Size([1, 2, 6])"
      ]
     },
     "execution_count": 17,
     "metadata": {},
     "output_type": "execute_result"
    }
   ],
   "source": [
    "imp.reload(model)\n",
    "attn = model.QKVAttention(0.5, n=2, q_channels=6)\n",
    "q = torch.randn([1, 2, 3, 2])\n",
    "k = torch.randn([1, 10, 3, 2])\n",
    "v = torch.randn([1, 10, 3, 2])\n",
    "attn(q, k, v).shape"
   ]
  },
  {
   "cell_type": "code",
   "execution_count": null,
   "metadata": {},
   "outputs": [],
   "source": [
    "imp.reload(model)\n",
    "in_val = torch.randn([10, 32])\n",
    "mlp = model.MLP(32, 4)\n",
    "mlp(in_val).shape"
   ]
  },
  {
   "cell_type": "code",
   "execution_count": null,
   "metadata": {},
   "outputs": [],
   "source": [
    "imp.reload(model)\n",
    "selfattn = model.SelfAttention(3, 4, 2, 4)\n",
    "garbo = torch.randn([1, 3, 4])\n",
    "selfattn(garbo).shape"
   ]
  },
  {
   "cell_type": "code",
   "execution_count": 131,
   "metadata": {},
   "outputs": [
    {
     "data": {
      "text/plain": [
       "torch.Size([1, 5, 4])"
      ]
     },
     "execution_count": 131,
     "metadata": {},
     "output_type": "execute_result"
    }
   ],
   "source": [
    "imp.reload(model)\n",
    "q = torch.randn([1, 5, 4])\n",
    "kv = torch.randn([1, 10, 20])\n",
    "cross = model.CrossAttention(5, 4, 20, 4, 4)\n",
    "cross((q, kv)).shape"
   ]
  },
  {
   "cell_type": "code",
   "execution_count": 14,
   "metadata": {},
   "outputs": [
    {
     "data": {
      "text/plain": [
       "torch.Size([6, 10, 32])"
      ]
     },
     "execution_count": 14,
     "metadata": {},
     "output_type": "execute_result"
    }
   ],
   "source": [
    "imp.reload(model)\n",
    "encoder = model.PerceiverEncoder(n=10, q_channels=32, kv_channels=64, heads=4, wide_factor=4, latent_count=6, repeat_count=5)\n",
    "q = torch.randn([6, 10, 32])\n",
    "kv = torch.randn([6, 20, 64])\n",
    "encoder(q, kv).shape"
   ]
  },
  {
   "cell_type": "code",
   "execution_count": 15,
   "metadata": {},
   "outputs": [
    {
     "data": {
      "text/plain": [
       "torch.Size([20, 32, 16])"
      ]
     },
     "execution_count": 15,
     "metadata": {},
     "output_type": "execute_result"
    }
   ],
   "source": [
    "imp.reload(model)\n",
    "percInternal = model.PerceiverInternal(in_channels=32, latent_dim=(16, 16), q_out_dim=(32, 16), heads=4, wide_factor=32, latent_count=6)\n",
    "garbo = torch.randn([20, 24, 32])\n",
    "percInternal(garbo).shape"
   ]
  },
  {
   "cell_type": "code",
   "execution_count": 17,
   "metadata": {},
   "outputs": [
    {
     "data": {
      "text/plain": [
       "torch.Size([5, 196608, 3])"
      ]
     },
     "execution_count": 17,
     "metadata": {},
     "output_type": "execute_result"
    }
   ],
   "source": [
    "imp.reload(model)\n",
    "garbo = torch.randn([5, 12, 128, 128])\n",
    "pre = model.ImagesPreprocess()\n",
    "pre(garbo).shape"
   ]
  },
  {
   "cell_type": "code",
   "execution_count": 20,
   "metadata": {},
   "outputs": [
    {
     "name": "stdout",
     "output_type": "stream",
     "text": [
      "torch.Size([1, 12, 128, 128, 3])\n"
     ]
    },
    {
     "data": {
      "text/plain": [
       "torch.Size([24, 64, 64])"
      ]
     },
     "execution_count": 20,
     "metadata": {},
     "output_type": "execute_result"
    }
   ],
   "source": [
    "imp.reload(model)\n",
    "preprocessor = model.ImagesPreprocess()\n",
    "perceiver = model.PerceiverCH(preprocessor, (16, 32), heads=8, wide_factor=4, latent_count=6)\n",
    "garbo = torch.randn([12, 128, 128])\n",
    "perceiver(garbo).shape"
   ]
  }
 ],
 "metadata": {
  "interpreter": {
   "hash": "4bba7e75823fc7474598fdaa9856f2217ab6bebf37b5fa259dabfeda760a6edd"
  },
  "kernelspec": {
   "display_name": "Python 3.7.11 ('maintorch')",
   "language": "python",
   "name": "python3"
  },
  "language_info": {
   "codemirror_mode": {
    "name": "ipython",
    "version": 3
   },
   "file_extension": ".py",
   "mimetype": "text/x-python",
   "name": "python",
   "nbconvert_exporter": "python",
   "pygments_lexer": "ipython3",
   "version": "3.7.11"
  },
  "orig_nbformat": 4
 },
 "nbformat": 4,
 "nbformat_minor": 2
}
